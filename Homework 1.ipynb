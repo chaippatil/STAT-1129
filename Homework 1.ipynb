{
 "cells": [
  {
   "cell_type": "code",
   "execution_count": 31,
   "id": "c240af71",
   "metadata": {},
   "outputs": [
    {
     "name": "stdout",
     "output_type": "stream",
     "text": [
      "[30, 35, 40, 45, 50, 55, 60]\n",
      "[60, 55, 50, 45, 40, 35, 30]\n",
      "[65, 60, 55, 50, 45, 40, 35, 30]\n"
     ]
    }
   ],
   "source": [
    "#question 1\n",
    "numbers = list(range(30, 65, 5))\n",
    "print(numbers)\n",
    "\n",
    "numbers.sort(reverse=True)\n",
    "print(numbers)\n",
    "\n",
    "numbers.sort(reverse=True)\n",
    "numbers.insert(0,65)\n",
    "print(numbers)"
   ]
  },
  {
   "cell_type": "code",
   "execution_count": 40,
   "id": "888e8181",
   "metadata": {
    "scrolled": true
   },
   "outputs": [
    {
     "name": "stdout",
     "output_type": "stream",
     "text": [
      "<class 'set'>\n",
      "[0, 1, 2, 3, 4, 5, 6, 7, 8, 9, 10, 11, 12, 13, 14, 15, 16, 17, 18, 19, 20]\n",
      "[1, 2, 3, 4, 5, 6, 7, 8, 9, 10, 11, 12, 13, 14, 15, 16, 17, 18, 19, 20]\n",
      "20\n",
      "20\n",
      "1\n",
      "210\n"
     ]
    }
   ],
   "source": [
    "#question 2\n",
    "\n",
    "x = set()\n",
    "print(type(x))\n",
    "\n",
    "y = list(range(0,21))\n",
    "x.update(y)\n",
    "print(y)\n",
    "\n",
    "y.remove(0)\n",
    "print(y)\n",
    "\n",
    "print(len(y))\n",
    "\n",
    "maxValue = max(y)\n",
    "print(maxValue)\n",
    "\n",
    "minValue = min(y)\n",
    "print(minValue)\n",
    "\n",
    "sum(y)\n",
    "print(sum(y))"
   ]
  },
  {
   "cell_type": "code",
   "execution_count": 97,
   "id": "89d9d2d4",
   "metadata": {
    "scrolled": false
   },
   "outputs": [
    {
     "name": "stdout",
     "output_type": "stream",
     "text": [
      "{'Sunny': 'play', 'Rainy': 'watch TV', 'Cloudy': 'walk'}\n",
      "When Sunny let us play\n",
      "When Rainy let us watch TV\n",
      "When Cloudy let us walk\n",
      "{'Sunny': 'play', 'Rainy': 'watch TV', 'Cloudy': 'walk', 'Snowy': 'ski'}\n"
     ]
    }
   ],
   "source": [
    "#question 3\n",
    "\n",
    "d = {\"Sunny\": \"play\", \"Rainy\": \"watch TV\", \"Cloudy\": \"walk\"}\n",
    "print(d)\n",
    "\n",
    "for key in d:\n",
    "    if(key == \"Sunny\"):\n",
    "        print(\"When\", key, \"let us play\")\n",
    "        \n",
    "for key in d:\n",
    "    if(key == \"Rainy\"):\n",
    "        print(\"When\", key, \"let us watch TV\")\n",
    "        \n",
    "for key in d:\n",
    "    if(key == \"Cloudy\"):\n",
    "        print(\"When\", key, \"let us walk\")\n",
    "        \n",
    "existing_dict = {\"Sunny\": \"play\", \"Rainy\": \"watch TV\", \"Cloudy\": \"walk\"}\n",
    "new_key = 'Snowy'\n",
    "new_value = 'ski'\n",
    " \n",
    "updated_dict = {**existing_dict, new_key: new_value}\n",
    "print(updated_dict)\n"
   ]
  },
  {
   "cell_type": "code",
   "execution_count": null,
   "id": "26914450",
   "metadata": {
    "scrolled": true
   },
   "outputs": [],
   "source": []
  },
  {
   "cell_type": "code",
   "execution_count": null,
   "id": "c3b25ad3",
   "metadata": {},
   "outputs": [],
   "source": []
  },
  {
   "cell_type": "code",
   "execution_count": null,
   "id": "ba1d8836",
   "metadata": {},
   "outputs": [],
   "source": []
  }
 ],
 "metadata": {
  "kernelspec": {
   "display_name": "Python 3 (ipykernel)",
   "language": "python",
   "name": "python3"
  },
  "language_info": {
   "codemirror_mode": {
    "name": "ipython",
    "version": 3
   },
   "file_extension": ".py",
   "mimetype": "text/x-python",
   "name": "python",
   "nbconvert_exporter": "python",
   "pygments_lexer": "ipython3",
   "version": "3.9.13"
  }
 },
 "nbformat": 4,
 "nbformat_minor": 5
}
