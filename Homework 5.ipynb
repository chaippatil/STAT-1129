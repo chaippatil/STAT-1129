{
 "cells": [
  {
   "cell_type": "code",
   "execution_count": 30,
   "id": "a2c912bd",
   "metadata": {},
   "outputs": [],
   "source": [
    "# Question 1\n",
    "\n",
    "class human:\n",
    "    \n",
    "    class_attribute_1_number_of_legs = 2\n",
    "    class_attribute_2_head= 1\n",
    "    class_attribute_3_common_name = True\n",
    "    class_attribute_4_number_of_eyes = 2\n",
    "    \n",
    "    def __init__(self, height, gender, race, age):\n",
    "        self.instance_attribute_height = height\n",
    "        self.instance_attribute_gender = gender\n",
    "        self.instance_attribute_race = race\n",
    "        self.instance_attribute_age = age\n",
    "        \n",
    "A = human(height=160, gender=\"Female\", race=\"Asian\", age=16)\n",
    "B = human(height=175, gender=\"Male\", race=\"Caucasian\", age=20)"
   ]
  },
  {
   "cell_type": "code",
   "execution_count": 31,
   "id": "9a3756dd",
   "metadata": {
    "scrolled": true
   },
   "outputs": [
    {
     "name": "stdout",
     "output_type": "stream",
     "text": [
      "1.0\n"
     ]
    }
   ],
   "source": [
    "# Question 2\n",
    "\n",
    "import math\n",
    "\n",
    "class Point:\n",
    "    def __init__(self,x,y): \n",
    "        self.x = x\n",
    "        self.y = y\n",
    "        \n",
    "    def Dist(self,other):\n",
    "        dx = self.x - other.x  \n",
    "        dy = self.y - other.y   \n",
    "        d = math.sqrt(dx**2+dy**2)  \n",
    "        return d\n",
    "    \n",
    "P = Point(0,0)\n",
    "Q = Point(0,1)\n",
    "d = P.Dist(Q)\n",
    "print(d) "
   ]
  },
  {
   "cell_type": "code",
   "execution_count": 32,
   "id": "561d864d",
   "metadata": {},
   "outputs": [
    {
     "name": "stdout",
     "output_type": "stream",
     "text": [
      "Answer: Option A: Class B inherits A, but the data field i in A is not identified\n"
     ]
    },
    {
     "ename": "AttributeError",
     "evalue": "'B' object has no attribute 'i'",
     "output_type": "error",
     "traceback": [
      "\u001b[0;31m---------------------------------------------------------------------------\u001b[0m",
      "\u001b[0;31mAttributeError\u001b[0m                            Traceback (most recent call last)",
      "\u001b[0;32m/var/folders/6j/0fz34brj3rsfp928kyg6kwsc0000gn/T/ipykernel_88773/1264277312.py\u001b[0m in \u001b[0;36m<module>\u001b[0;34m\u001b[0m\n\u001b[1;32m     14\u001b[0m     \u001b[0mprint\u001b[0m\u001b[0;34m(\u001b[0m\u001b[0mb\u001b[0m\u001b[0;34m.\u001b[0m\u001b[0mi\u001b[0m\u001b[0;34m)\u001b[0m\u001b[0;34m\u001b[0m\u001b[0;34m\u001b[0m\u001b[0m\n\u001b[1;32m     15\u001b[0m     \u001b[0mprint\u001b[0m\u001b[0;34m(\u001b[0m\u001b[0mb\u001b[0m\u001b[0;34m.\u001b[0m\u001b[0mj\u001b[0m\u001b[0;34m)\u001b[0m\u001b[0;34m\u001b[0m\u001b[0;34m\u001b[0m\u001b[0m\n\u001b[0;32m---> 16\u001b[0;31m \u001b[0mmain\u001b[0m\u001b[0;34m(\u001b[0m\u001b[0;34m)\u001b[0m\u001b[0;34m\u001b[0m\u001b[0;34m\u001b[0m\u001b[0m\n\u001b[0m",
      "\u001b[0;32m/var/folders/6j/0fz34brj3rsfp928kyg6kwsc0000gn/T/ipykernel_88773/1264277312.py\u001b[0m in \u001b[0;36mmain\u001b[0;34m()\u001b[0m\n\u001b[1;32m     12\u001b[0m \u001b[0;32mdef\u001b[0m \u001b[0mmain\u001b[0m\u001b[0;34m(\u001b[0m\u001b[0;34m)\u001b[0m\u001b[0;34m:\u001b[0m\u001b[0;34m\u001b[0m\u001b[0;34m\u001b[0m\u001b[0m\n\u001b[1;32m     13\u001b[0m     \u001b[0mb\u001b[0m \u001b[0;34m=\u001b[0m \u001b[0mB\u001b[0m\u001b[0;34m(\u001b[0m\u001b[0;34m)\u001b[0m\u001b[0;34m\u001b[0m\u001b[0;34m\u001b[0m\u001b[0m\n\u001b[0;32m---> 14\u001b[0;31m     \u001b[0mprint\u001b[0m\u001b[0;34m(\u001b[0m\u001b[0mb\u001b[0m\u001b[0;34m.\u001b[0m\u001b[0mi\u001b[0m\u001b[0;34m)\u001b[0m\u001b[0;34m\u001b[0m\u001b[0;34m\u001b[0m\u001b[0m\n\u001b[0m\u001b[1;32m     15\u001b[0m     \u001b[0mprint\u001b[0m\u001b[0;34m(\u001b[0m\u001b[0mb\u001b[0m\u001b[0;34m.\u001b[0m\u001b[0mj\u001b[0m\u001b[0;34m)\u001b[0m\u001b[0;34m\u001b[0m\u001b[0;34m\u001b[0m\u001b[0m\n\u001b[1;32m     16\u001b[0m \u001b[0mmain\u001b[0m\u001b[0;34m(\u001b[0m\u001b[0;34m)\u001b[0m\u001b[0;34m\u001b[0m\u001b[0;34m\u001b[0m\u001b[0m\n",
      "\u001b[0;31mAttributeError\u001b[0m: 'B' object has no attribute 'i'"
     ]
    }
   ],
   "source": [
    "# Question 3\n",
    "\n",
    "print(\"Answer: Option A: Class B inherits A, but the data field i in A is not identified\")\n",
    "\n",
    "class A:\n",
    "    def __init__(self, i=0):\n",
    "        self.i = i\n",
    "class B(A):\n",
    "    def __init__(self, j=0):\n",
    "        self.j = j\n",
    "\n",
    "def main():\n",
    "    b = B()\n",
    "    print(b.i)\n",
    "    print(b.j)\n",
    "main()\n"
   ]
  },
  {
   "cell_type": "code",
   "execution_count": 33,
   "id": "66db1de7",
   "metadata": {
    "scrolled": true
   },
   "outputs": [
    {
     "name": "stdout",
     "output_type": "stream",
     "text": [
      "helloworld\n",
      "Answer = helloworld\n"
     ]
    }
   ],
   "source": [
    "# Question 4\n",
    "\n",
    "def main():\n",
    "    print(\"hello\", end=\"\")\n",
    "    \n",
    "try:\n",
    "    if __name__ == \"__main__\":\n",
    "        main()\n",
    "except:\n",
    "    print(\"name\")\n",
    "finally:\n",
    "    print(\"world\")\n",
    "    \n",
    "print(\"Answer = helloworld\")"
   ]
  },
  {
   "cell_type": "code",
   "execution_count": 34,
   "id": "71c772b4",
   "metadata": {},
   "outputs": [
    {
     "name": "stdout",
     "output_type": "stream",
     "text": [
      "Answer = Option B: The __init__ method is used to set initial values for attributes.\n",
      "Sally\n"
     ]
    }
   ],
   "source": [
    "# Question 5\n",
    "\n",
    "print(\"Answer = Option B: The __init__ method is used to set initial values for attributes.\")\n",
    "\n",
    "class People():\n",
    "    def __init__(self, name):\n",
    "        self.name = name\n",
    "    def namePrint(self):\n",
    "        print(self.name)\n",
    "\n",
    "person1 = People(\"Sally\")\n",
    "person2 = People(\"Louise\")\n",
    "person1.namePrint()"
   ]
  },
  {
   "cell_type": "code",
   "execution_count": 35,
   "id": "26c437a7",
   "metadata": {
    "scrolled": true
   },
   "outputs": [
    {
     "name": "stdout",
     "output_type": "stream",
     "text": [
      "Answer = TypeError: Only integers are allowed.\n"
     ]
    },
    {
     "ename": "TypeError",
     "evalue": "Only integers are allowed",
     "output_type": "error",
     "traceback": [
      "\u001b[0;31m---------------------------------------------------------------------------\u001b[0m",
      "\u001b[0;31mTypeError\u001b[0m                                 Traceback (most recent call last)",
      "\u001b[0;32m/var/folders/6j/0fz34brj3rsfp928kyg6kwsc0000gn/T/ipykernel_88773/1081530770.py\u001b[0m in \u001b[0;36m<module>\u001b[0;34m\u001b[0m\n\u001b[1;32m      5\u001b[0m \u001b[0mx\u001b[0m \u001b[0;34m=\u001b[0m \u001b[0;34m\"hello\"\u001b[0m\u001b[0;34m\u001b[0m\u001b[0;34m\u001b[0m\u001b[0m\n\u001b[1;32m      6\u001b[0m \u001b[0;32mif\u001b[0m \u001b[0;32mnot\u001b[0m \u001b[0mtype\u001b[0m\u001b[0;34m(\u001b[0m\u001b[0mx\u001b[0m\u001b[0;34m)\u001b[0m \u001b[0;32mis\u001b[0m \u001b[0mint\u001b[0m\u001b[0;34m:\u001b[0m\u001b[0;34m\u001b[0m\u001b[0;34m\u001b[0m\u001b[0m\n\u001b[0;32m----> 7\u001b[0;31m     \u001b[0;32mraise\u001b[0m \u001b[0mTypeError\u001b[0m\u001b[0;34m(\u001b[0m\u001b[0;34m\"Only integers are allowed\"\u001b[0m\u001b[0;34m)\u001b[0m\u001b[0;34m\u001b[0m\u001b[0;34m\u001b[0m\u001b[0m\n\u001b[0m",
      "\u001b[0;31mTypeError\u001b[0m: Only integers are allowed"
     ]
    }
   ],
   "source": [
    "# Question 6\n",
    "\n",
    "print(\"Answer = TypeError: Only integers are allowed.\")\n",
    "\n",
    "x = \"hello\"\n",
    "if not type(x) is int:\n",
    "    raise TypeError(\"Only integers are allowed\")"
   ]
  },
  {
   "cell_type": "code",
   "execution_count": null,
   "id": "e17c8158",
   "metadata": {},
   "outputs": [],
   "source": []
  }
 ],
 "metadata": {
  "kernelspec": {
   "display_name": "Python 3 (ipykernel)",
   "language": "python",
   "name": "python3"
  },
  "language_info": {
   "codemirror_mode": {
    "name": "ipython",
    "version": 3
   },
   "file_extension": ".py",
   "mimetype": "text/x-python",
   "name": "python",
   "nbconvert_exporter": "python",
   "pygments_lexer": "ipython3",
   "version": "3.9.13"
  }
 },
 "nbformat": 4,
 "nbformat_minor": 5
}
