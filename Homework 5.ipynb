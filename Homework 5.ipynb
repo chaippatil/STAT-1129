{
 "cells": [
  {
   "cell_type": "code",
   "execution_count": 30,
   "id": "a2c912bd",
   "metadata": {},
   "outputs": [],
   "source": [
    "# Question 1\n",
    "\n",
    "class human:\n",
    "    \n",
    "    class_attribute_1_number_of_legs = 2\n",
    "    class_attribute_2_head= 1\n",
    "    class_attribute_3_common_name = True\n",
    "    class_attribute_4_number_of_eyes = 2\n",
    "    \n",
    "    def __init__(self, height, gender, race, age):\n",
    "        self.instance_attribute_height = height\n",
    "        self.instance_attribute_gender = gender\n",
    "        self.instance_attribute_race = race\n",
    "        self.instance_attribute_age = age\n",
    "        \n",
    "A = human(height=160, gender=\"Female\", race=\"Asian\", age=16)\n",
    "B = human(height=175, gender=\"Male\", race=\"Caucasian\", age=20)"
   ]
  },
  {
   "cell_type": "code",
   "execution_count": 31,
   "id": "9a3756dd",
   "metadata": {
    "scrolled": true
   },
   "outputs": [
    {
     "name": "stdout",
     "output_type": "stream",
     "text": [
      "1.0\n"
     ]
    }
   ],
   "source": [
    "# Question 2\n",
    "\n",
    "import math\n",
    "\n",
    "class Point:\n",
    "    def __init__(self,x,y): \n",
    "        self.x = x\n",
    "        self.y = y\n",
    "        \n",
    "    def Dist(self,other):\n",
    "        dx = self.x - other.x  \n",
    "        dy = self.y - other.y   \n",
    "        d = math.sqrt(dx**2+dy**2)  \n",
    "        return d\n",
    "    \n",
    "P = Point(0,0)\n",
    "Q = Point(0,1)\n",
    "d = P.Dist(Q)\n",
    "print(d) "
   ]
  },
  {
   "cell_type": "code",
   "execution_count": null,
   "id": "561d864d",
   "metadata": {},
   "outputs": [],
   "source": [
    "\n"
   ]
  },
  {
   "cell_type": "code",
   "execution_count": null,
   "id": "66db1de7",
   "metadata": {
    "scrolled": true
   },
   "outputs": [],
   "source": []
  },
  {
   "cell_type": "code",
   "execution_count": null,
   "id": "71c772b4",
   "metadata": {
    "scrolled": true
   },
   "outputs": [],
   "source": []
  },
  {
   "cell_type": "code",
   "execution_count": null,
   "id": "26c437a7",
   "metadata": {
    "scrolled": true
   },
   "outputs": [],
   "source": []
  },
  {
   "cell_type": "code",
   "execution_count": null,
   "id": "6d65d623",
   "metadata": {},
   "outputs": [],
   "source": []
  }
 ],
 "metadata": {
  "kernelspec": {
   "display_name": "Python 3 (ipykernel)",
   "language": "python",
   "name": "python3"
  },
  "language_info": {
   "codemirror_mode": {
    "name": "ipython",
    "version": 3
   },
   "file_extension": ".py",
   "mimetype": "text/x-python",
   "name": "python",
   "nbconvert_exporter": "python",
   "pygments_lexer": "ipython3",
   "version": "3.9.13"
  }
 },
 "nbformat": 4,
 "nbformat_minor": 5
}
