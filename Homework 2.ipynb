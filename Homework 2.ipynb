{
 "cells": [
  {
   "cell_type": "code",
   "execution_count": 103,
   "id": "fcaaebe2",
   "metadata": {
    "scrolled": true
   },
   "outputs": [
    {
     "name": "stdout",
     "output_type": "stream",
     "text": [
      "0\n",
      "1\n",
      "2\n",
      "3\n",
      "4\n",
      "5\n"
     ]
    }
   ],
   "source": [
    "# question 1\n",
    "\n",
    "n = 0\n",
    "while n < 10:\n",
    "  print(n)\n",
    "  if n == 5:\n",
    "    break\n",
    "  n += 1"
   ]
  },
  {
   "cell_type": "code",
   "execution_count": 2,
   "id": "e5b0df31",
   "metadata": {
    "scrolled": true
   },
   "outputs": [
    {
     "name": "stdout",
     "output_type": "stream",
     "text": [
      "0\n",
      "1\n",
      "2\n",
      "3\n",
      "4\n",
      "5  is not less than 5\n"
     ]
    }
   ],
   "source": [
    "# question 2\n",
    "\n",
    "n = 0\n",
    "while n < 5:\n",
    "   print (n)\n",
    "   n += 1\n",
    "else:\n",
    "   print (n, \" is not less than 5\")"
   ]
  },
  {
   "cell_type": "code",
   "execution_count": 2,
   "id": "0585265c",
   "metadata": {
    "scrolled": true
   },
   "outputs": [
    {
     "name": "stdout",
     "output_type": "stream",
     "text": [
      "I like mango\n",
      "I like orange\n",
      "I like strawberry\n",
      "I like pineapple\n",
      "apple is really a fruit?\n"
     ]
    }
   ],
   "source": [
    "#question 3\n",
    "\n",
    "fruits = [\"mango\", \"orange\", \"strawberry\", \"pineapple\", \"apple\", \"banana\"] \n",
    "for x in fruits: \n",
    "  if x == \"apple\":\n",
    "    break\n",
    "  print(\"I like\", x)\n",
    "print('apple', \"is really a fruit?\")\n",
    " "
   ]
  },
  {
   "cell_type": "code",
   "execution_count": 4,
   "id": "c61d63c4",
   "metadata": {
    "scrolled": true
   },
   "outputs": [
    {
     "name": "stdout",
     "output_type": "stream",
     "text": [
      "The sum is 465\n"
     ]
    }
   ],
   "source": [
    "# question 4\n",
    "\n",
    "n = 30\n",
    "sum = 0\n",
    "i = 1\n",
    "\n",
    "while i <= n:\n",
    "    sum = sum + i\n",
    "    i = i+1\n",
    "    \n",
    "print (\"The sum is\", sum)"
   ]
  },
  {
   "cell_type": "code",
   "execution_count": 73,
   "id": "5a77c972",
   "metadata": {},
   "outputs": [
    {
     "name": "stdout",
     "output_type": "stream",
     "text": [
      "A\n"
     ]
    }
   ],
   "source": [
    "# question 5\n",
    " \n",
    "grade = 95\n",
    "\n",
    "if grade >= 90:\n",
    "    print('A')\n",
    "elif grade >= 80:\n",
    "    print('B')\n",
    "elif grade >= 70:\n",
    "    print('C')\n",
    "elif grade >= 60:\n",
    "    print('D')\n",
    "else:\n",
    "    print('F')"
   ]
  },
  {
   "cell_type": "code",
   "execution_count": 74,
   "id": "2e87b507",
   "metadata": {
    "scrolled": true
   },
   "outputs": [],
   "source": [
    "# question 6\n",
    "\n",
    "grades_per_student = {'Andy': 88, 'Amy': 66, 'James': 90, 'Jules': 55, 'Arthur': 77}"
   ]
  },
  {
   "cell_type": "code",
   "execution_count": 39,
   "id": "98cae573",
   "metadata": {},
   "outputs": [
    {
     "name": "stdout",
     "output_type": "stream",
     "text": [
      "Andy 88\n",
      "Amy 66\n",
      "James 90\n",
      "Jules 55\n",
      "Arthur 77\n"
     ]
    }
   ],
   "source": [
    "# question 6.1\n",
    "\n",
    "for student, grade in grades_per_student.items():\n",
    "    print(student, grade)"
   ]
  },
  {
   "cell_type": "code",
   "execution_count": 61,
   "id": "e28e1034",
   "metadata": {},
   "outputs": [
    {
     "name": "stdout",
     "output_type": "stream",
     "text": [
      "Mean Grade: 75.2\n",
      "Maximal Grade: 90\n",
      "Minimal Grade: 55\n"
     ]
    }
   ],
   "source": [
    "# question 6.2\n",
    "\n",
    "import statistics\n",
    "\n",
    "mean = statistics.mean(grades_per_student.values()) \n",
    "key_max = max(grades_per_student.keys(), key=(lambda k: grades_per_student[k]))\n",
    "key_min = min(grades_per_student.keys(), key=(lambda k: grades_per_student[k]))\n",
    "\n",
    "print(\"Mean Grade:\", mean)\n",
    "print('Maximal Grade:', grades_per_student[key_max])\n",
    "print('Minimal Grade:', grades_per_student[key_min])"
   ]
  },
  {
   "cell_type": "code",
   "execution_count": 59,
   "id": "7b222698",
   "metadata": {},
   "outputs": [
    {
     "name": "stdout",
     "output_type": "stream",
     "text": [
      "Andy\n",
      "Amy\n"
     ]
    }
   ],
   "source": [
    "# question 6.3\n",
    "\n",
    "for student in grades_per_student:\n",
    "    if 'J' in student:\n",
    "        break\n",
    "    print(student)"
   ]
  },
  {
   "cell_type": "code",
   "execution_count": 60,
   "id": "163a4003",
   "metadata": {},
   "outputs": [
    {
     "name": "stdout",
     "output_type": "stream",
     "text": [
      "Andy\n",
      "Amy\n",
      "Arthur\n"
     ]
    }
   ],
   "source": [
    "# question 6.4\n",
    "\n",
    "for student in grades_per_student:\n",
    "    if 'J' in student:\n",
    "        continue\n",
    "    print(student)"
   ]
  },
  {
   "cell_type": "code",
   "execution_count": null,
   "id": "d945c8c2",
   "metadata": {
    "scrolled": true
   },
   "outputs": [],
   "source": [
    "\n",
    "  "
   ]
  },
  {
   "cell_type": "code",
   "execution_count": null,
   "id": "062049d6",
   "metadata": {},
   "outputs": [],
   "source": []
  }
 ],
 "metadata": {
  "kernelspec": {
   "display_name": "Python 3 (ipykernel)",
   "language": "python",
   "name": "python3"
  },
  "language_info": {
   "codemirror_mode": {
    "name": "ipython",
    "version": 3
   },
   "file_extension": ".py",
   "mimetype": "text/x-python",
   "name": "python",
   "nbconvert_exporter": "python",
   "pygments_lexer": "ipython3",
   "version": "3.9.13"
  }
 },
 "nbformat": 4,
 "nbformat_minor": 5
}
