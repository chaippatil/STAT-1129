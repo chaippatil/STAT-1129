{
 "cells": [
  {
   "cell_type": "code",
   "execution_count": 1,
   "id": "2a518bd6",
   "metadata": {},
   "outputs": [
    {
     "name": "stdout",
     "output_type": "stream",
     "text": [
      "88\n",
      "Cannot find this student's name\n"
     ]
    },
    {
     "data": {
      "text/plain": [
       "75.2"
      ]
     },
     "execution_count": 1,
     "metadata": {},
     "output_type": "execute_result"
    }
   ],
   "source": [
    "#question 1\n",
    "\n",
    "#part 1\n",
    "\n",
    "def score(name):\n",
    "    marks = {'Andy': 88, 'Amy': 66, 'James': 90, 'Jules': 55, 'Arthur': 77}\n",
    "    for key, value in marks.items():\n",
    "        if key == name:\n",
    "            return value\n",
    "        if __name__ == \"__main__\":\n",
    "            return \"Cannot find this student's name\"      \n",
    "\n",
    "print(score('Andy'))\n",
    "print(score('Charlie'))\n",
    "\n",
    "#part 2\n",
    "\n",
    "def average(*marks):\n",
    "    return sum(marks) / len(marks)\n",
    "average(88,66,90,55,77)"
   ]
  },
  {
   "cell_type": "code",
   "execution_count": 2,
   "id": "8a683740",
   "metadata": {},
   "outputs": [
    {
     "name": "stdout",
     "output_type": "stream",
     "text": [
      " 0 0\n",
      " 1 1\n",
      " 2 4\n",
      " 3 9\n",
      " 4 16\n",
      " 5 25\n",
      " 6 36\n",
      " 7 49\n",
      " 8 64\n",
      "greater than 8\n"
     ]
    }
   ],
   "source": [
    "#question 2\n",
    "\n",
    "def less_greater(num):\n",
    "    n=0\n",
    "    while n <= num:\n",
    "        t = n*n\n",
    "        print(\"\", n,t)\n",
    "        n+=1\n",
    "    else:\n",
    "        print('greater than', num)\n",
    "less_greater(8)"
   ]
  },
  {
   "cell_type": "code",
   "execution_count": 6,
   "id": "fa59a48f",
   "metadata": {
    "scrolled": true
   },
   "outputs": [
    {
     "name": "stdout",
     "output_type": "stream",
     "text": [
      "465\n"
     ]
    }
   ],
   "source": [
    "# question 3\n",
    "\n",
    "def sumfunction(num):\n",
    "    n=1\n",
    "    sum=0\n",
    "    while n<=num:\n",
    "        sum = sum + n\n",
    "        n= n + 1\n",
    "    print(sum)\n",
    "sumfunction(30)"
   ]
  },
  {
   "cell_type": "code",
   "execution_count": 4,
   "id": "121f7fc5",
   "metadata": {},
   "outputs": [
    {
     "name": "stdout",
     "output_type": "stream",
     "text": [
      "465\n"
     ]
    }
   ],
   "source": [
    "# question 4\n",
    "\n",
    "def range_sum(num):\n",
    "    sum = 0\n",
    "    for n in range(num):\n",
    "        sum = sum + n\n",
    "    print(sum)\n",
    "    \n",
    "range_sum(31)"
   ]
  },
  {
   "cell_type": "code",
   "execution_count": 37,
   "id": "9a94da5a",
   "metadata": {
    "scrolled": true
   },
   "outputs": [
    {
     "data": {
      "text/plain": [
       "50"
      ]
     },
     "execution_count": 37,
     "metadata": {},
     "output_type": "execute_result"
    }
   ],
   "source": [
    "# question 5\n",
    "\n",
    "# mean\n",
    "\n",
    "import statistics as stats\n",
    "\n",
    "def meanfunction(nums):\n",
    "    nums = list(range(1,100))\n",
    "\n",
    "stats. mean(nums)"
   ]
  },
  {
   "cell_type": "code",
   "execution_count": 43,
   "id": "fae9d1c4",
   "metadata": {},
   "outputs": [
    {
     "name": "stdout",
     "output_type": "stream",
     "text": [
      "5050\n"
     ]
    }
   ],
   "source": [
    "# question 5\n",
    "\n",
    "# sum\n",
    "\n",
    "def sumfunction(num):\n",
    "    n=1\n",
    "    sum=0\n",
    "    while n<=num:\n",
    "        sum = sum + n\n",
    "        n= n + 1\n",
    "    print(sum)\n",
    "sumfunction(100)"
   ]
  },
  {
   "cell_type": "code",
   "execution_count": 39,
   "id": "729108b8",
   "metadata": {},
   "outputs": [
    {
     "data": {
      "text/plain": [
       "28.577380332470412"
      ]
     },
     "execution_count": 39,
     "metadata": {},
     "output_type": "execute_result"
    }
   ],
   "source": [
    "# question 5\n",
    "\n",
    "# standard deviation\n",
    "\n",
    "import statistics as stats\n",
    "\n",
    "def my_function(nums):\n",
    "    nums = list(range(1,100))\n",
    "\n",
    "stats. pstdev(nums)"
   ]
  },
  {
   "cell_type": "code",
   "execution_count": 8,
   "id": "06db3ae1",
   "metadata": {},
   "outputs": [
    {
     "data": {
      "text/plain": [
       "5"
      ]
     },
     "execution_count": 8,
     "metadata": {},
     "output_type": "execute_result"
    }
   ],
   "source": [
    "# question 6\n",
    "\n",
    "def minimum(v1,v2,v3,v4):\n",
    "    min_value = v1\n",
    "    if v2 < min_value:\n",
    "        min_value = v2\n",
    "    if v3 < min_value:\n",
    "        min_value = v3\n",
    "    if v4 < min_value:\n",
    "        min_value = v4\n",
    "    return min_value\n",
    "\n",
    "minimum(15, 25, 45, 5)"
   ]
  },
  {
   "cell_type": "code",
   "execution_count": 57,
   "id": "b91ea209",
   "metadata": {},
   "outputs": [
    {
     "name": "stdout",
     "output_type": "stream",
     "text": [
      "Hello World !\n"
     ]
    }
   ],
   "source": [
    "# question 7\n",
    "\n",
    "def sentence(str1, str2, str3):\n",
    "    concatenate = str1 + \" \" + str2 + \" \" + str3\n",
    "    print(concatenate)\n",
    "sentence(\"Hello\", \"World\", \"!\")"
   ]
  },
  {
   "cell_type": "code",
   "execution_count": null,
   "id": "3687bb27",
   "metadata": {
    "scrolled": true
   },
   "outputs": [],
   "source": []
  },
  {
   "cell_type": "code",
   "execution_count": null,
   "id": "1ba3ed9f",
   "metadata": {},
   "outputs": [],
   "source": []
  }
 ],
 "metadata": {
  "kernelspec": {
   "display_name": "Python 3 (ipykernel)",
   "language": "python",
   "name": "python3"
  },
  "language_info": {
   "codemirror_mode": {
    "name": "ipython",
    "version": 3
   },
   "file_extension": ".py",
   "mimetype": "text/x-python",
   "name": "python",
   "nbconvert_exporter": "python",
   "pygments_lexer": "ipython3",
   "version": "3.9.13"
  }
 },
 "nbformat": 4,
 "nbformat_minor": 5
}
